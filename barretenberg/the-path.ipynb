{
 "cells": [
  {
   "cell_type": "markdown",
   "id": "b1c5160a",
   "metadata": {},
   "source": [
    "# The Path Forward\n",
    "If the WASM slowdown is generically by 1/3.4, then our heuristics say we should aim the follow time on 16 cores for an x86 build:\n"
   ]
  },
  {
   "cell_type": "code",
   "execution_count": 49,
   "id": "693d2b39",
   "metadata": {},
   "outputs": [
    {
     "data": {
      "text/plain": [
       "14.117647058823529"
      ]
     },
     "execution_count": 49,
     "metadata": {},
     "output_type": "execute_result"
    }
   ],
   "source": [
    "TARGET_TIME = 60/4.25\n",
    "TARGET_TIME "
   ]
  },
  {
   "cell_type": "markdown",
   "id": "1f822e48",
   "metadata": {},
   "source": [
    "Set up the basic utility class to compute and display the effects of our optimizations"
   ]
  },
  {
   "cell_type": "code",
   "execution_count": 50,
   "id": "aed8a62d",
   "metadata": {},
   "outputs": [],
   "source": [
    "from prettytable import PrettyTable\n",
    "FIELD_NAMES = [\"-\", \"total\", \"rels\", \"msm\", \"trace\", \"etc\"]\n",
    "NUM_RELATIONS = 10 \n",
    "NUM_THREADS = 16\n",
    "\n",
    "def normalize(d):\n",
    "    total = sum(d.values())\n",
    "    return {k: round(100*v/total) for (k, v) in d.items()}\n",
    "\n",
    "\n",
    "class TableData:\n",
    "    def __init__(self, percs, times):\n",
    "        self.percs = percs\n",
    "        self.times = times\n",
    "\n",
    "    def to_table(self):\n",
    "        result = PrettyTable()\n",
    "        result.field_names = FIELD_NAMES\n",
    "\n",
    "        percs = list(self.percs.values())\n",
    "        times = list(self.times.values())\n",
    "        result.add_row([\"%\"] + [round(sum(percs), 2)] + percs)\n",
    "        result.add_row([\"#(s)\"] + [round(sum(times), 2)] + times)\n",
    "        return result\n",
    "\n",
    "    def update_perc(self, k, v):\n",
    "        self.percs[k] = self.percs[k] * v\n",
    "        self.percs = normalize(self.percs)\n",
    "\n",
    "    def update_time(self, k, v):\n",
    "        self.times[k] = round(self.times[k] * v, 2)\n",
    "\n",
    "    def update(self, k, v):\n",
    "        self.update_perc(k, v)\n",
    "        self.update_time(k, v)\n",
    "\n",
    "    def __str__(self):\n",
    "        return self.to_table().__str__()"
   ]
  },
  {
   "cell_type": "markdown",
   "id": "0af5c8d3",
   "metadata": {},
   "source": [
    "Set initial distribution using the numbers of https://github.com/AztecProtocol/aztec-packages/pull/5211"
   ]
  },
  {
   "cell_type": "code",
   "execution_count": 51,
   "id": "660a69d8",
   "metadata": {},
   "outputs": [
    {
     "name": "stdout",
     "output_type": "stream",
     "text": [
      "+------+-------+-------+-------+-------+------+\n",
      "|  -   | total |  rels |  msm  | trace | etc  |\n",
      "+------+-------+-------+-------+-------+------+\n",
      "|  %   |  100  |   35  |   35  |   20  |  10  |\n",
      "| #(s) |  23.7 | 8.295 | 8.295 |  4.74 | 2.37 |\n",
      "+------+-------+-------+-------+-------+------+\n"
     ]
    }
   ],
   "source": [
    "INITIAL_TIME = 23.7\n",
    "INITIAL_PERCS = {\"rels\": 35,   \"msm\": 35,   \"trace\": 20,    \"etc\": 10}\n",
    "INITIAL_TIMES = dict([(key, INITIAL_TIME * val / 100)\n",
    "                     for (key, val) in INITIAL_PERCS.items()])\n",
    "T = TableData(INITIAL_PERCS, INITIAL_TIMES)\n",
    "print(T)"
   ]
  },
  {
   "cell_type": "markdown",
   "id": "ed77dd2e",
   "metadata": {},
   "source": [
    "## Structuring the execution trace\n",
    "\n",
    "By structuring the exeuction trace, we can reduce the time to execute the relations by a factor of $1/\\text{NUM\\_RELATIONS}$"
   ]
  },
  {
   "cell_type": "code",
   "execution_count": 52,
   "id": "bbd96eec",
   "metadata": {},
   "outputs": [
    {
     "name": "stdout",
     "output_type": "stream",
     "text": [
      "+------+-------+------+-------+-------+------+\n",
      "|  -   | total | rels |  msm  | trace | etc  |\n",
      "+------+-------+------+-------+-------+------+\n",
      "|  %   |  100  |  5   |   51  |   29  |  15  |\n",
      "| #(s) | 16.23 | 0.83 | 8.295 |  4.74 | 2.37 |\n",
      "+------+-------+------+-------+-------+------+\n"
     ]
    }
   ],
   "source": [
    "REDUCTION_DUE_TO_TRACE_STRUCTURING = 1/NUM_RELATIONS\n",
    "T.update(\"rels\", REDUCTION_DUE_TO_TRACE_STRUCTURING)\n",
    "print(T)\n"
   ]
  },
  {
   "cell_type": "markdown",
   "id": "f470d600",
   "metadata": {},
   "source": [
    "## Improved multithreading\n",
    "\n",
    "OMP did a better job by about 35% on the sizes we care about in terms of commitments. Assume that holds and we can get the corresponding reduction in x86."
   ]
  },
  {
   "cell_type": "code",
   "execution_count": 53,
   "id": "e95b549c",
   "metadata": {},
   "outputs": [],
   "source": [
    "# REDUCTION_DUE_TO_OMP = 0.65\n",
    "# T.update(\"msm\", REDUCTION_DUE_TO_OMP)\n",
    "# print(T)\n"
   ]
  },
  {
   "cell_type": "markdown",
   "id": "54d8329e",
   "metadata": {},
   "source": [
    "## Better field arithemetic\n",
    "\n",
    "Heuristically, by using Karatsuba in our WASM we can get a 25% reduction across the board when doing field arithmetic. Let's be pessimistic and say that's actually 15%. Last I checked, field arithmetic accounts for 80% of our proof construction time, so we'd hope for a 12% reduction across the board."
   ]
  },
  {
   "cell_type": "code",
   "execution_count": 54,
   "id": "c444c15e",
   "metadata": {},
   "outputs": [
    {
     "name": "stdout",
     "output_type": "stream",
     "text": [
      "+------+-------+------+-----+-------+------+\n",
      "|  -   | total | rels | msm | trace | etc  |\n",
      "+------+-------+------+-----+-------+------+\n",
      "|  %   |  100  |  4   |  51 |   30  |  15  |\n",
      "| #(s) | 14.29 | 0.73 | 7.3 |  4.17 | 2.09 |\n",
      "+------+-------+------+-----+-------+------+\n"
     ]
    }
   ],
   "source": [
    "REDUCTION_DUE_TO_USING_NIM = 1-0.12\n",
    "\n",
    "T.update(\"msm\", REDUCTION_DUE_TO_USING_NIM)\n",
    "T.update(\"rels\", REDUCTION_DUE_TO_USING_NIM)\n",
    "T.update(\"trace\", REDUCTION_DUE_TO_USING_NIM)\n",
    "T.update(\"etc\", REDUCTION_DUE_TO_USING_NIM)\n",
    "print(T)"
   ]
  },
  {
   "cell_type": "code",
   "execution_count": null,
   "id": "c88f3b17",
   "metadata": {},
   "outputs": [],
   "source": []
  }
 ],
 "metadata": {
  "kernelspec": {
   "display_name": "Python 3 (ipykernel)",
   "language": "python",
   "name": "python3"
  },
  "language_info": {
   "codemirror_mode": {
    "name": "ipython",
    "version": 3
   },
   "file_extension": ".py",
   "mimetype": "text/x-python",
   "name": "python",
   "nbconvert_exporter": "python",
   "pygments_lexer": "ipython3",
   "version": "3.11.6"
  }
 },
 "nbformat": 4,
 "nbformat_minor": 5
}
